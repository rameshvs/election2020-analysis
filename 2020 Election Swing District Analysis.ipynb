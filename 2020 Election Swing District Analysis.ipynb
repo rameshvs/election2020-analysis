{
 "cells": [
  {
   "cell_type": "markdown",
   "metadata": {},
   "source": [
    "# 2020 Election Swing District Analysis"
   ]
  },
  {
   "cell_type": "markdown",
   "metadata": {},
   "source": [
    "After Democrats underperformed expectations in the House of Representatives in the 2020 election, moderates in the party immediately [accused progressives of pulling the party too far to the left and costing moderates in swing districts](https://www.sfgate.com/politics/article/Nancy-Pelosi-Abigail-Spanberger-call-defund-police-15707741.php). Alexandria Ocasio-Cortez shot back by noting that [progressives outperformed expectations, even in swing districts](https://www.nytimes.com/2020/11/07/us/politics/aoc-biden-progressives.html) (and that [many moderates underinvested in digital campaigning](https://twitter.com/AOC/status/1324698828944138243)).\n",
    "\n",
    "In this notebook, I'll try to understand the relationship between a candidate's ideology and how well that candidate does electorally. I'm also going to investigate the candidates in a handful of districts where this relationship looks particularly interesting."
   ]
  },
  {
   "cell_type": "markdown",
   "metadata": {},
   "source": [
    "This is version 1.0 of this notebook. You can always find the latest version (as well as the data used) in [this github repository](https://github.com/rameshvs/election2020-analysis)."
   ]
  },
  {
   "cell_type": "markdown",
   "metadata": {},
   "source": [
    "### Some disclaimers\n",
    "\n",
    "* This analysis only looks at electoral & candidate ideological data, and not at other quantitative factors like how much Democrats spent on TV vs digital media.\n",
    "* This analysis does **not** try to address the question of whether progressive activism led to a backlash that caused moderate or conservative Democrats to lose. Instead, it only examines each candidate's ideology and comparing that to their electoral record.\n",
    "  * There's plenty of quantitative academic work about the effect of [protests on racial resentment](https://osf.io/preprints/socarxiv/ap46d/).\n",
    "* Quantifying ideology is hard, and the data I'm using [has limitations](https://www.govtrack.us/about/analysis#ideology).\n",
    "* I'm not claiming an unbiased analysis: it's likely that my personal politics will leak in to what I find. Instead, I'm providing everything here for you to draw your own conclusions (or, for those inclined, to conduct further analysis).\n",
    "* I'm not claiming that this analysis is original, or even that I'm looking at the correct variables. My expertise is in data science, not in political science. If you have any feedback, feel free to let me know on Twitter!"
   ]
  },
  {
   "cell_type": "markdown",
   "metadata": {},
   "source": [
    "If you want to run the code here yourself, you'll need to download the data yourself from each source individually or from [this prepackaged link](). TODO"
   ]
  },
  {
   "cell_type": "code",
   "execution_count": 1,
   "metadata": {},
   "outputs": [],
   "source": [
    "%matplotlib inline\n",
    "\n",
    "import numpy as np\n",
    "import pandas as pd\n",
    "\n",
    "import matplotlib.pyplot as plt\n",
    "import seaborn as sns\n",
    "\n",
    "sns.set()\n",
    "pd.set_option('precision', 2)"
   ]
  },
  {
   "cell_type": "code",
   "execution_count": 2,
   "metadata": {},
   "outputs": [],
   "source": [
    "def percent_to_num(col: pd.Series) -> pd.Series:\n",
    "    \"\"\"Converts a column with strings like '20.3%' to floats like 0.203\"\"\"\n",
    "    return col.str.strip('%').astype('float')/100"
   ]
  },
  {
   "cell_type": "markdown",
   "metadata": {},
   "source": [
    "## Loading and preprocess the data"
   ]
  },
  {
   "cell_type": "markdown",
   "metadata": {},
   "source": [
    "### 2020 House Election"
   ]
  },
  {
   "cell_type": "markdown",
   "metadata": {},
   "source": [
    "Data about the 2020 House election was taken from [this Washington post report](https://www.washingtonpost.com/elections/election-results/house-2020/) on the evening of November 9, 2020. "
   ]
  },
  {
   "cell_type": "code",
   "execution_count": 3,
   "metadata": {},
   "outputs": [
    {
     "data": {
      "text/html": [
       "<div>\n",
       "<style scoped>\n",
       "    .dataframe tbody tr th:only-of-type {\n",
       "        vertical-align: middle;\n",
       "    }\n",
       "\n",
       "    .dataframe tbody tr th {\n",
       "        vertical-align: top;\n",
       "    }\n",
       "\n",
       "    .dataframe thead th {\n",
       "        text-align: right;\n",
       "    }\n",
       "</style>\n",
       "<table border=\"1\" class=\"dataframe\">\n",
       "  <thead>\n",
       "    <tr style=\"text-align: right;\">\n",
       "      <th></th>\n",
       "      <th>District</th>\n",
       "      <th>2020 Dem</th>\n",
       "      <th>2020 Rep</th>\n",
       "      <th>RPT</th>\n",
       "      <th>Incumbent party</th>\n",
       "      <th>Safety</th>\n",
       "    </tr>\n",
       "  </thead>\n",
       "  <tbody>\n",
       "    <tr>\n",
       "      <th>0</th>\n",
       "      <td>AZ-1</td>\n",
       "      <td>51.70%</td>\n",
       "      <td>48.30%</td>\n",
       "      <td>&gt;99%</td>\n",
       "      <td>D</td>\n",
       "      <td>Vulnerable</td>\n",
       "    </tr>\n",
       "    <tr>\n",
       "      <th>1</th>\n",
       "      <td>CA-21</td>\n",
       "      <td>48.20%</td>\n",
       "      <td>51.80%</td>\n",
       "      <td>83%</td>\n",
       "      <td>D</td>\n",
       "      <td>Vulnerable</td>\n",
       "    </tr>\n",
       "    <tr>\n",
       "      <th>2</th>\n",
       "      <td>CA-48</td>\n",
       "      <td>49.10%</td>\n",
       "      <td>50.90%</td>\n",
       "      <td>&gt;99%</td>\n",
       "      <td>D</td>\n",
       "      <td>Vulnerable</td>\n",
       "    </tr>\n",
       "    <tr>\n",
       "      <th>3</th>\n",
       "      <td>FL-26</td>\n",
       "      <td>48.30%</td>\n",
       "      <td>51.70%</td>\n",
       "      <td>95%</td>\n",
       "      <td>D</td>\n",
       "      <td>Vulnerable</td>\n",
       "    </tr>\n",
       "    <tr>\n",
       "      <th>4</th>\n",
       "      <td>IA-1</td>\n",
       "      <td>48.70%</td>\n",
       "      <td>51.30%</td>\n",
       "      <td>90%</td>\n",
       "      <td>D</td>\n",
       "      <td>Vulnerable</td>\n",
       "    </tr>\n",
       "  </tbody>\n",
       "</table>\n",
       "</div>"
      ],
      "text/plain": [
       "  District 2020 Dem 2020 Rep   RPT Incumbent party      Safety\n",
       "0     AZ-1   51.70%   48.30%  >99%               D  Vulnerable\n",
       "1    CA-21   48.20%   51.80%   83%               D  Vulnerable\n",
       "2    CA-48   49.10%   50.90%  >99%               D  Vulnerable\n",
       "3    FL-26   48.30%   51.70%   95%               D  Vulnerable\n",
       "4     IA-1   48.70%   51.30%   90%               D  Vulnerable"
      ]
     },
     "execution_count": 3,
     "metadata": {},
     "output_type": "execute_result"
    }
   ],
   "source": [
    "election2020 = pd.read_csv('wapo-house2020-20201109.csv')\n",
    "election2020.head()"
   ]
  },
  {
   "cell_type": "code",
   "execution_count": 4,
   "metadata": {},
   "outputs": [],
   "source": [
    "def compute_winner(dem_margin: float) -> str:\n",
    "    \"\"\"Returns 'Dem' or 'Rep' depending on the margin in a district\"\"\"\n",
    "    if dem_margin == 0:\n",
    "        return 'Tie'\n",
    "    elif dem_margin < 0:\n",
    "        return 'Rep'\n",
    "    elif dem_margin > 0:\n",
    "        return 'Dem'\n",
    "    \n",
    "# Round up: more than 99% reporting is close enough to 100%\n",
    "election2020.loc[election2020['RPT'] == '>99%', 'RPT'] = '100%'\n",
    "\n",
    "for column in ['2020 Dem', '2020 Rep', 'RPT']:\n",
    "    # If a party didn't run a candidate, count their vote share as 0\n",
    "    # (this applies to the RPT column in FL-25 as well: not sure why)\n",
    "    election2020.loc[election2020[column] == '-', column] = '0%'\n",
    "    \n",
    "    # Count unchallenged races as 100% for the incumbent\n",
    "    election2020.loc[election2020[column] == 'Unc.', column] = '100%'\n",
    "\n",
    "    # Convert string '30%' to float 0.3\n",
    "    election2020[column] = percent_to_num(election2020[column])\n",
    "    \n",
    "election2020['HouseDem20 margin'] = election2020['2020 Dem'] - election2020['2020 Rep']\n",
    "election2020['House20 winner'] = election2020['HouseDem20 margin'].apply(compute_winner)\n",
    "\n",
    "# For readability, we'll drop the vote percents for Dem/Rep, and just keep the margin\n",
    "election2020 = election2020.drop(['2020 Dem', '2020 Rep'], axis=1)"
   ]
  },
  {
   "cell_type": "code",
   "execution_count": 5,
   "metadata": {
    "scrolled": true
   },
   "outputs": [
    {
     "data": {
      "text/html": [
       "<div>\n",
       "<style scoped>\n",
       "    .dataframe tbody tr th:only-of-type {\n",
       "        vertical-align: middle;\n",
       "    }\n",
       "\n",
       "    .dataframe tbody tr th {\n",
       "        vertical-align: top;\n",
       "    }\n",
       "\n",
       "    .dataframe thead th {\n",
       "        text-align: right;\n",
       "    }\n",
       "</style>\n",
       "<table border=\"1\" class=\"dataframe\">\n",
       "  <thead>\n",
       "    <tr style=\"text-align: right;\">\n",
       "      <th></th>\n",
       "      <th>District</th>\n",
       "      <th>RPT</th>\n",
       "      <th>Incumbent party</th>\n",
       "      <th>Safety</th>\n",
       "      <th>HouseDem20 margin</th>\n",
       "      <th>House20 winner</th>\n",
       "    </tr>\n",
       "  </thead>\n",
       "  <tbody>\n",
       "    <tr>\n",
       "      <th>0</th>\n",
       "      <td>AZ-1</td>\n",
       "      <td>1.00</td>\n",
       "      <td>D</td>\n",
       "      <td>Vulnerable</td>\n",
       "      <td>0.03</td>\n",
       "      <td>Dem</td>\n",
       "    </tr>\n",
       "    <tr>\n",
       "      <th>1</th>\n",
       "      <td>CA-21</td>\n",
       "      <td>0.83</td>\n",
       "      <td>D</td>\n",
       "      <td>Vulnerable</td>\n",
       "      <td>-0.04</td>\n",
       "      <td>Rep</td>\n",
       "    </tr>\n",
       "    <tr>\n",
       "      <th>2</th>\n",
       "      <td>CA-48</td>\n",
       "      <td>1.00</td>\n",
       "      <td>D</td>\n",
       "      <td>Vulnerable</td>\n",
       "      <td>-0.02</td>\n",
       "      <td>Rep</td>\n",
       "    </tr>\n",
       "    <tr>\n",
       "      <th>3</th>\n",
       "      <td>FL-26</td>\n",
       "      <td>0.95</td>\n",
       "      <td>D</td>\n",
       "      <td>Vulnerable</td>\n",
       "      <td>-0.03</td>\n",
       "      <td>Rep</td>\n",
       "    </tr>\n",
       "    <tr>\n",
       "      <th>4</th>\n",
       "      <td>IA-1</td>\n",
       "      <td>0.90</td>\n",
       "      <td>D</td>\n",
       "      <td>Vulnerable</td>\n",
       "      <td>-0.03</td>\n",
       "      <td>Rep</td>\n",
       "    </tr>\n",
       "  </tbody>\n",
       "</table>\n",
       "</div>"
      ],
      "text/plain": [
       "  District   RPT Incumbent party      Safety  HouseDem20 margin House20 winner\n",
       "0     AZ-1  1.00               D  Vulnerable               0.03            Dem\n",
       "1    CA-21  0.83               D  Vulnerable              -0.04            Rep\n",
       "2    CA-48  1.00               D  Vulnerable              -0.02            Rep\n",
       "3    FL-26  0.95               D  Vulnerable              -0.03            Rep\n",
       "4     IA-1  0.90               D  Vulnerable              -0.03            Rep"
      ]
     },
     "execution_count": 5,
     "metadata": {},
     "output_type": "execute_result"
    }
   ],
   "source": [
    "election2020.head()"
   ]
  },
  {
   "cell_type": "markdown",
   "metadata": {},
   "source": [
    "### Data from 2010-2018 House elections\n"
   ]
  },
  {
   "cell_type": "markdown",
   "metadata": {},
   "source": [
    "Data from House elections for 2018 and earlier comes from the [MIT Election Lab](https://dataverse.harvard.edu/dataset.xhtml?persistentId=doi:10.7910/DVN/IG0UN2)."
   ]
  },
  {
   "cell_type": "code",
   "execution_count": 6,
   "metadata": {
    "scrolled": true
   },
   "outputs": [
    {
     "data": {
      "text/html": [
       "<div>\n",
       "<style scoped>\n",
       "    .dataframe tbody tr th:only-of-type {\n",
       "        vertical-align: middle;\n",
       "    }\n",
       "\n",
       "    .dataframe tbody tr th {\n",
       "        vertical-align: top;\n",
       "    }\n",
       "\n",
       "    .dataframe thead th {\n",
       "        text-align: right;\n",
       "    }\n",
       "</style>\n",
       "<table border=\"1\" class=\"dataframe\">\n",
       "  <thead>\n",
       "    <tr style=\"text-align: right;\">\n",
       "      <th></th>\n",
       "      <th>year</th>\n",
       "      <th>state</th>\n",
       "      <th>state_po</th>\n",
       "      <th>state_fips</th>\n",
       "      <th>state_cen</th>\n",
       "      <th>state_ic</th>\n",
       "      <th>office</th>\n",
       "      <th>district</th>\n",
       "      <th>stage</th>\n",
       "      <th>runoff</th>\n",
       "      <th>special</th>\n",
       "      <th>candidate</th>\n",
       "      <th>party</th>\n",
       "      <th>writein</th>\n",
       "      <th>mode</th>\n",
       "      <th>candidatevotes</th>\n",
       "      <th>totalvotes</th>\n",
       "      <th>unofficial</th>\n",
       "      <th>version</th>\n",
       "    </tr>\n",
       "  </thead>\n",
       "  <tbody>\n",
       "    <tr>\n",
       "      <th>0</th>\n",
       "      <td>1976</td>\n",
       "      <td>Alabama</td>\n",
       "      <td>AL</td>\n",
       "      <td>1</td>\n",
       "      <td>63</td>\n",
       "      <td>41</td>\n",
       "      <td>US House</td>\n",
       "      <td>1</td>\n",
       "      <td>gen</td>\n",
       "      <td>False</td>\n",
       "      <td>False</td>\n",
       "      <td>Bill Davenport</td>\n",
       "      <td>democrat</td>\n",
       "      <td>False</td>\n",
       "      <td>total</td>\n",
       "      <td>58906</td>\n",
       "      <td>157170</td>\n",
       "      <td>False</td>\n",
       "      <td>20200424</td>\n",
       "    </tr>\n",
       "    <tr>\n",
       "      <th>1</th>\n",
       "      <td>1976</td>\n",
       "      <td>Alabama</td>\n",
       "      <td>AL</td>\n",
       "      <td>1</td>\n",
       "      <td>63</td>\n",
       "      <td>41</td>\n",
       "      <td>US House</td>\n",
       "      <td>1</td>\n",
       "      <td>gen</td>\n",
       "      <td>False</td>\n",
       "      <td>False</td>\n",
       "      <td>Jack Edwards</td>\n",
       "      <td>republican</td>\n",
       "      <td>False</td>\n",
       "      <td>total</td>\n",
       "      <td>98257</td>\n",
       "      <td>157170</td>\n",
       "      <td>False</td>\n",
       "      <td>20200424</td>\n",
       "    </tr>\n",
       "    <tr>\n",
       "      <th>2</th>\n",
       "      <td>1976</td>\n",
       "      <td>Alabama</td>\n",
       "      <td>AL</td>\n",
       "      <td>1</td>\n",
       "      <td>63</td>\n",
       "      <td>41</td>\n",
       "      <td>US House</td>\n",
       "      <td>1</td>\n",
       "      <td>gen</td>\n",
       "      <td>False</td>\n",
       "      <td>False</td>\n",
       "      <td>NaN</td>\n",
       "      <td>NaN</td>\n",
       "      <td>True</td>\n",
       "      <td>total</td>\n",
       "      <td>7</td>\n",
       "      <td>157170</td>\n",
       "      <td>False</td>\n",
       "      <td>20200424</td>\n",
       "    </tr>\n",
       "    <tr>\n",
       "      <th>3</th>\n",
       "      <td>1976</td>\n",
       "      <td>Alabama</td>\n",
       "      <td>AL</td>\n",
       "      <td>1</td>\n",
       "      <td>63</td>\n",
       "      <td>41</td>\n",
       "      <td>US House</td>\n",
       "      <td>2</td>\n",
       "      <td>gen</td>\n",
       "      <td>False</td>\n",
       "      <td>False</td>\n",
       "      <td>J. Carole Keahey</td>\n",
       "      <td>democrat</td>\n",
       "      <td>False</td>\n",
       "      <td>total</td>\n",
       "      <td>66288</td>\n",
       "      <td>156362</td>\n",
       "      <td>False</td>\n",
       "      <td>20200424</td>\n",
       "    </tr>\n",
       "    <tr>\n",
       "      <th>4</th>\n",
       "      <td>1976</td>\n",
       "      <td>Alabama</td>\n",
       "      <td>AL</td>\n",
       "      <td>1</td>\n",
       "      <td>63</td>\n",
       "      <td>41</td>\n",
       "      <td>US House</td>\n",
       "      <td>2</td>\n",
       "      <td>gen</td>\n",
       "      <td>False</td>\n",
       "      <td>False</td>\n",
       "      <td>NaN</td>\n",
       "      <td>NaN</td>\n",
       "      <td>True</td>\n",
       "      <td>total</td>\n",
       "      <td>5</td>\n",
       "      <td>156362</td>\n",
       "      <td>False</td>\n",
       "      <td>20200424</td>\n",
       "    </tr>\n",
       "  </tbody>\n",
       "</table>\n",
       "</div>"
      ],
      "text/plain": [
       "   year    state state_po  state_fips  state_cen  state_ic    office  \\\n",
       "0  1976  Alabama       AL           1         63        41  US House   \n",
       "1  1976  Alabama       AL           1         63        41  US House   \n",
       "2  1976  Alabama       AL           1         63        41  US House   \n",
       "3  1976  Alabama       AL           1         63        41  US House   \n",
       "4  1976  Alabama       AL           1         63        41  US House   \n",
       "\n",
       "   district stage runoff  special         candidate       party  writein  \\\n",
       "0         1   gen  False    False    Bill Davenport    democrat    False   \n",
       "1         1   gen  False    False      Jack Edwards  republican    False   \n",
       "2         1   gen  False    False               NaN         NaN     True   \n",
       "3         2   gen  False    False  J. Carole Keahey    democrat    False   \n",
       "4         2   gen  False    False               NaN         NaN     True   \n",
       "\n",
       "    mode  candidatevotes  totalvotes  unofficial   version  \n",
       "0  total           58906      157170       False  20200424  \n",
       "1  total           98257      157170       False  20200424  \n",
       "2  total               7      157170       False  20200424  \n",
       "3  total           66288      156362       False  20200424  \n",
       "4  total               5      156362       False  20200424  "
      ]
     },
     "execution_count": 6,
     "metadata": {},
     "output_type": "execute_result"
    }
   ],
   "source": [
    "house = pd.read_csv('election-lab-1976-2018-house2.csv', encoding = \"ISO-8859-1\")\n",
    "house.head()"
   ]
  },
  {
   "cell_type": "code",
   "execution_count": 7,
   "metadata": {
    "scrolled": false
   },
   "outputs": [
    {
     "data": {
      "text/html": [
       "<div>\n",
       "<style scoped>\n",
       "    .dataframe tbody tr th:only-of-type {\n",
       "        vertical-align: middle;\n",
       "    }\n",
       "\n",
       "    .dataframe tbody tr th {\n",
       "        vertical-align: top;\n",
       "    }\n",
       "\n",
       "    .dataframe thead th {\n",
       "        text-align: right;\n",
       "    }\n",
       "</style>\n",
       "<table border=\"1\" class=\"dataframe\">\n",
       "  <thead>\n",
       "    <tr style=\"text-align: right;\">\n",
       "      <th>party_year</th>\n",
       "      <th>District</th>\n",
       "      <th>HouseDem18 margin</th>\n",
       "      <th>HouseDemAvg margin</th>\n",
       "    </tr>\n",
       "  </thead>\n",
       "  <tbody>\n",
       "    <tr>\n",
       "      <th>0</th>\n",
       "      <td>AK-AL</td>\n",
       "      <td>-0.07</td>\n",
       "      <td>-0.17</td>\n",
       "    </tr>\n",
       "    <tr>\n",
       "      <th>1</th>\n",
       "      <td>AL-1</td>\n",
       "      <td>-0.26</td>\n",
       "      <td>-0.64</td>\n",
       "    </tr>\n",
       "    <tr>\n",
       "      <th>2</th>\n",
       "      <td>AL-2</td>\n",
       "      <td>-0.23</td>\n",
       "      <td>-0.23</td>\n",
       "    </tr>\n",
       "    <tr>\n",
       "      <th>3</th>\n",
       "      <td>AL-3</td>\n",
       "      <td>-0.27</td>\n",
       "      <td>-0.31</td>\n",
       "    </tr>\n",
       "    <tr>\n",
       "      <th>4</th>\n",
       "      <td>AL-4</td>\n",
       "      <td>-0.60</td>\n",
       "      <td>-0.76</td>\n",
       "    </tr>\n",
       "  </tbody>\n",
       "</table>\n",
       "</div>"
      ],
      "text/plain": [
       "party_year District  HouseDem18 margin  HouseDemAvg margin\n",
       "0             AK-AL              -0.07               -0.17\n",
       "1              AL-1              -0.26               -0.64\n",
       "2              AL-2              -0.23               -0.23\n",
       "3              AL-3              -0.27               -0.31\n",
       "4              AL-4              -0.60               -0.76"
      ]
     },
     "execution_count": 7,
     "metadata": {},
     "output_type": "execute_result"
    }
   ],
   "source": [
    "def electionlab_district(row: pd.Series) -> str:\n",
    "    \"\"\"\n",
    "    Compute representation like 'CA-13' or 'MT-AL' \n",
    "    from a row of the above table\n",
    "    \"\"\"\n",
    "    # 0 -> \"AL\" for at-large\n",
    "    district = row['district'] or 'AL'\n",
    "    \n",
    "    state = row['state_po']\n",
    "    return f'{state}-{district}'\n",
    "\n",
    "def get_party_and_year(row: pd.Series) -> str:\n",
    "    \"\"\"Computes a string like 'Dem 2018' or 'Rep 2014' from a row\"\"\"\n",
    "    # In MN and ND, the Dem party has a slightly\n",
    "    # different name due to merging with other parties\n",
    "    raw_party = str(row['party'])\n",
    "    if raw_party.startswith('democrat'):\n",
    "        party = 'Dem'\n",
    "    elif raw_party == 'republican':\n",
    "        party = 'Rep'\n",
    "    else:\n",
    "        # We'll remove third parties from this analysis\n",
    "        return np.nan\n",
    "    \n",
    "    year = row['year']\n",
    "    return f'{party} {year}'\n",
    "\n",
    "years = range(2012, 2020, 2)\n",
    "parties = ('Dem', 'Rep')\n",
    "\n",
    "# Keep general elections from 2012 onward only\n",
    "house = house[\n",
    "    (house['stage'] == 'gen') \n",
    "    & (house['runoff'] != True)  # include missing vals\n",
    "    & (~house['special'])\n",
    "    & (house['year'].isin(years))\n",
    "].copy()\n",
    "\n",
    "house['vote_proportion'] = house['candidatevotes'] / house['totalvotes']\n",
    "\n",
    "house['District'] = house.apply(electionlab_district, axis=1)\n",
    "house['party_year'] = house.apply(get_party_and_year, axis=1)\n",
    "house = house[pd.notnull(house['party_year'])]\n",
    "\n",
    "house = house.loc[:, ['District', 'party_year', 'vote_proportion']]\n",
    "\n",
    "# If a party ran multiple candidates in a district, choose the one\n",
    "# with the highest vote share\n",
    "house = house.groupby(['District', 'party_year']).max()\n",
    "\n",
    "# Pivot the `party_year` column into 'Dem 2018', 'Rep 2018', etc\n",
    "house = house.loc[:, 'vote_proportion'].unstack(level=-1).reset_index()\n",
    "del house.index.name\n",
    "\n",
    "for year in years:\n",
    "    for party in parties:\n",
    "        column = f'{party} {year}'\n",
    "        house.loc[pd.isna(house[column]), column] = 0\n",
    "    house[f'HouseDem{year-2000} margin'] = house[f'Dem {year}'] - house[f'Rep {year}']\n",
    "\n",
    "margin_columns = [f'HouseDem{y-2000} margin' for y in years]\n",
    "house['HouseDemAvg margin'] = house.loc[:, [f'HouseDem{y-2000} margin' for y in years]].mean(axis=1)\n",
    "margin_columns.append('HouseDemAvg margin')\n",
    "\n",
    "# To make the table easier to read, we'll only keep the margins from 2018 and the 2012-2018 average.\n",
    "house = house.loc[:, ['District'] + margin_columns[-2:]]\n",
    "\n",
    "house.head()"
   ]
  },
  {
   "cell_type": "markdown",
   "metadata": {},
   "source": [
    "### Data from 2016, 2012, and 2008 presidential elections"
   ]
  },
  {
   "cell_type": "markdown",
   "metadata": {},
   "source": [
    "Data about the 2016, 2012, and 2008 presidential elections was taken from [Daily Kos](https://www.dailykos.com/stories/2018/2/21/1742660/-The-ultimate-Daily-Kos-Elections-guide-to-all-of-our-data-sets) ([direct spreadsheet link](https://docs.google.com/spreadsheets/d/1VfkHtzBTP5gf4jAu8tcVQgsBJ1IDvXEHjuMqYlOgYbA/edit#gid=0)). To the best of my knowledge, they're the only source that provides presidential race results, grouped by district, for free. (I manually adjusted the header row after downloading.)"
   ]
  },
  {
   "cell_type": "code",
   "execution_count": 8,
   "metadata": {
    "scrolled": true
   },
   "outputs": [
    {
     "data": {
      "text/html": [
       "<div>\n",
       "<style scoped>\n",
       "    .dataframe tbody tr th:only-of-type {\n",
       "        vertical-align: middle;\n",
       "    }\n",
       "\n",
       "    .dataframe tbody tr th {\n",
       "        vertical-align: top;\n",
       "    }\n",
       "\n",
       "    .dataframe thead th {\n",
       "        text-align: right;\n",
       "    }\n",
       "</style>\n",
       "<table border=\"1\" class=\"dataframe\">\n",
       "  <thead>\n",
       "    <tr style=\"text-align: right;\">\n",
       "      <th></th>\n",
       "      <th>District</th>\n",
       "      <th>Incumbent</th>\n",
       "      <th>Party</th>\n",
       "      <th>Clinton 2016</th>\n",
       "      <th>Trump 2016</th>\n",
       "      <th>Obama 2012</th>\n",
       "      <th>Romney 2012</th>\n",
       "      <th>Obama 2008</th>\n",
       "      <th>McCain 2008</th>\n",
       "    </tr>\n",
       "  </thead>\n",
       "  <tbody>\n",
       "    <tr>\n",
       "      <th>0</th>\n",
       "      <td>AK-AL</td>\n",
       "      <td>Young, Don</td>\n",
       "      <td>(R)</td>\n",
       "      <td>37.6</td>\n",
       "      <td>52.8</td>\n",
       "      <td>41.2</td>\n",
       "      <td>55.3</td>\n",
       "      <td>38.1</td>\n",
       "      <td>59.7</td>\n",
       "    </tr>\n",
       "    <tr>\n",
       "      <th>1</th>\n",
       "      <td>AL-01</td>\n",
       "      <td>Byrne, Bradley</td>\n",
       "      <td>(R)</td>\n",
       "      <td>34.1</td>\n",
       "      <td>63.5</td>\n",
       "      <td>37.4</td>\n",
       "      <td>61.8</td>\n",
       "      <td>38.5</td>\n",
       "      <td>60.9</td>\n",
       "    </tr>\n",
       "    <tr>\n",
       "      <th>2</th>\n",
       "      <td>AL-02</td>\n",
       "      <td>Roby, Martha</td>\n",
       "      <td>(R)</td>\n",
       "      <td>33.0</td>\n",
       "      <td>64.9</td>\n",
       "      <td>36.4</td>\n",
       "      <td>62.9</td>\n",
       "      <td>35.0</td>\n",
       "      <td>64.5</td>\n",
       "    </tr>\n",
       "    <tr>\n",
       "      <th>3</th>\n",
       "      <td>AL-03</td>\n",
       "      <td>Rogers, Mike</td>\n",
       "      <td>(R)</td>\n",
       "      <td>32.3</td>\n",
       "      <td>65.3</td>\n",
       "      <td>36.8</td>\n",
       "      <td>62.3</td>\n",
       "      <td>36.6</td>\n",
       "      <td>62.6</td>\n",
       "    </tr>\n",
       "    <tr>\n",
       "      <th>4</th>\n",
       "      <td>AL-04</td>\n",
       "      <td>Aderholt, Rob</td>\n",
       "      <td>(R)</td>\n",
       "      <td>17.4</td>\n",
       "      <td>80.4</td>\n",
       "      <td>24.0</td>\n",
       "      <td>74.8</td>\n",
       "      <td>25.5</td>\n",
       "      <td>73.3</td>\n",
       "    </tr>\n",
       "  </tbody>\n",
       "</table>\n",
       "</div>"
      ],
      "text/plain": [
       "  District       Incumbent Party  Clinton 2016  Trump 2016  Obama 2012  \\\n",
       "0    AK-AL      Young, Don   (R)          37.6        52.8        41.2   \n",
       "1    AL-01  Byrne, Bradley   (R)          34.1        63.5        37.4   \n",
       "2    AL-02    Roby, Martha   (R)          33.0        64.9        36.4   \n",
       "3    AL-03    Rogers, Mike   (R)          32.3        65.3        36.8   \n",
       "4    AL-04   Aderholt, Rob   (R)          17.4        80.4        24.0   \n",
       "\n",
       "   Romney 2012  Obama 2008  McCain 2008  \n",
       "0         55.3        38.1         59.7  \n",
       "1         61.8        38.5         60.9  \n",
       "2         62.9        35.0         64.5  \n",
       "3         62.3        36.6         62.6  \n",
       "4         74.8        25.5         73.3  "
      ]
     },
     "execution_count": 8,
     "metadata": {},
     "output_type": "execute_result"
    }
   ],
   "source": [
    "prez = pd.read_csv('pres_by_district.csv').iloc[:, :9]\n",
    "prez.head()"
   ]
  },
  {
   "cell_type": "code",
   "execution_count": 9,
   "metadata": {},
   "outputs": [],
   "source": [
    "def unpad_district(district: str) -> str:\n",
    "    \"\"\"Converts 'AL-01' to 'AL-1', etc. for consistency\"\"\"\n",
    "    return district.replace('-0', '-')"
   ]
  },
  {
   "cell_type": "code",
   "execution_count": 10,
   "metadata": {},
   "outputs": [
    {
     "data": {
      "text/html": [
       "<div>\n",
       "<style scoped>\n",
       "    .dataframe tbody tr th:only-of-type {\n",
       "        vertical-align: middle;\n",
       "    }\n",
       "\n",
       "    .dataframe tbody tr th {\n",
       "        vertical-align: top;\n",
       "    }\n",
       "\n",
       "    .dataframe thead th {\n",
       "        text-align: right;\n",
       "    }\n",
       "</style>\n",
       "<table border=\"1\" class=\"dataframe\">\n",
       "  <thead>\n",
       "    <tr style=\"text-align: right;\">\n",
       "      <th></th>\n",
       "      <th>District</th>\n",
       "      <th>Trump16 margin</th>\n",
       "      <th>Obama12 margin</th>\n",
       "    </tr>\n",
       "  </thead>\n",
       "  <tbody>\n",
       "    <tr>\n",
       "      <th>0</th>\n",
       "      <td>AK-AL</td>\n",
       "      <td>0.15</td>\n",
       "      <td>-0.14</td>\n",
       "    </tr>\n",
       "    <tr>\n",
       "      <th>1</th>\n",
       "      <td>AL-1</td>\n",
       "      <td>0.29</td>\n",
       "      <td>-0.24</td>\n",
       "    </tr>\n",
       "    <tr>\n",
       "      <th>2</th>\n",
       "      <td>AL-2</td>\n",
       "      <td>0.32</td>\n",
       "      <td>-0.27</td>\n",
       "    </tr>\n",
       "    <tr>\n",
       "      <th>3</th>\n",
       "      <td>AL-3</td>\n",
       "      <td>0.33</td>\n",
       "      <td>-0.26</td>\n",
       "    </tr>\n",
       "    <tr>\n",
       "      <th>4</th>\n",
       "      <td>AL-4</td>\n",
       "      <td>0.63</td>\n",
       "      <td>-0.51</td>\n",
       "    </tr>\n",
       "  </tbody>\n",
       "</table>\n",
       "</div>"
      ],
      "text/plain": [
       "  District  Trump16 margin  Obama12 margin\n",
       "0    AK-AL            0.15           -0.14\n",
       "1     AL-1            0.29           -0.24\n",
       "2     AL-2            0.32           -0.27\n",
       "3     AL-3            0.33           -0.26\n",
       "4     AL-4            0.63           -0.51"
      ]
     },
     "execution_count": 10,
     "metadata": {},
     "output_type": "execute_result"
    }
   ],
   "source": [
    "margin16 = (prez['Trump 2016'] - prez['Clinton 2016'])/100\n",
    "margin12 = (prez['Obama 2012'] - prez['Romney 2012'])/100\n",
    "\n",
    "prez = pd.DataFrame({\n",
    "    'District': prez['District'].apply(unpad_district),\n",
    "    'Trump16 margin': margin16,\n",
    "    'Obama12 margin': margin12,\n",
    "})\n",
    "prez.head()"
   ]
  },
  {
   "cell_type": "markdown",
   "metadata": {},
   "source": [
    "### Ideology"
   ]
  },
  {
   "cell_type": "markdown",
   "metadata": {},
   "source": [
    "Data about representatives' ideology is available for download [from govtrack](https://www.govtrack.us/congress/members/report-cards/2019/house/ideology). The `ideology` column represents the ideology of the district's representative for 2019 only, with 0 being the most liberal and 1 being the most conservative. \n",
    "\n",
    "For reference, here are scores for a handful of well-known Representatives:\n",
    "* Rep. Matt Gaetz (R, FL-1), a prominent Trump ally, has a score of `ideology = 0.9`.\n",
    "* Rep. Steve King (R, IA-4), a white supremacist who's been disavowed by his own party, has a score of `ideology = 0.77`.\n",
    "* Rep. Abigail Spanberger (D, VA-7), who led the complaints about Democrats moving too far to the left, has a score of `ideology = 0.48`.\n",
    "* Rep. Justin Amash (L, MI-3), who left the Republican party and was the only non-Democrat to vote in favor of impeaching Donald Trump, has a score of `ideology = 0.4`.\n",
    "* Speaker Nancy Pelosi (D, CA-12) has a score of `ideology = 0.34`.\n",
    "* Rep. Alexandria Ocasio-Cortez (D, NY-14) has a score of `ideology = 0.09`.\n",
    "\n",
    "Govtrack's scores are computed based only on sponsoring and co-sponsoring of bills. You can read about how they're computed and what their limitations are on [their methodology page](https://www.govtrack.us/about/analysis#ideology). For example, co-sponsoring legislation like the Green New Deal and Medicare for All would lead to a score closer to 0."
   ]
  },
  {
   "cell_type": "code",
   "execution_count": 11,
   "metadata": {},
   "outputs": [
    {
     "data": {
      "text/html": [
       "<div>\n",
       "<style scoped>\n",
       "    .dataframe tbody tr th:only-of-type {\n",
       "        vertical-align: middle;\n",
       "    }\n",
       "\n",
       "    .dataframe tbody tr th {\n",
       "        vertical-align: top;\n",
       "    }\n",
       "\n",
       "    .dataframe thead th {\n",
       "        text-align: right;\n",
       "    }\n",
       "</style>\n",
       "<table border=\"1\" class=\"dataframe\">\n",
       "  <thead>\n",
       "    <tr style=\"text-align: right;\">\n",
       "      <th></th>\n",
       "      <th>rank_from_low</th>\n",
       "      <th>rank_from_high</th>\n",
       "      <th>percentile</th>\n",
       "      <th>ideology</th>\n",
       "      <th>id</th>\n",
       "      <th>bioguide_id</th>\n",
       "      <th>state</th>\n",
       "      <th>district</th>\n",
       "      <th>name</th>\n",
       "    </tr>\n",
       "  </thead>\n",
       "  <tbody>\n",
       "    <tr>\n",
       "      <th>0</th>\n",
       "      <td>1</td>\n",
       "      <td>437</td>\n",
       "      <td>0</td>\n",
       "      <td>0.00</td>\n",
       "      <td>400237</td>\n",
       "      <td>L000551</td>\n",
       "      <td>CA</td>\n",
       "      <td>13</td>\n",
       "      <td>b'Lee'</td>\n",
       "    </tr>\n",
       "    <tr>\n",
       "      <th>1</th>\n",
       "      <td>2</td>\n",
       "      <td>436</td>\n",
       "      <td>0</td>\n",
       "      <td>0.03</td>\n",
       "      <td>400360</td>\n",
       "      <td>S001145</td>\n",
       "      <td>IL</td>\n",
       "      <td>9</td>\n",
       "      <td>b'Schakowsky'</td>\n",
       "    </tr>\n",
       "    <tr>\n",
       "      <th>2</th>\n",
       "      <td>3</td>\n",
       "      <td>435</td>\n",
       "      <td>0</td>\n",
       "      <td>0.03</td>\n",
       "      <td>400295</td>\n",
       "      <td>N000147</td>\n",
       "      <td>DC</td>\n",
       "      <td>0</td>\n",
       "      <td>b'Norton'</td>\n",
       "    </tr>\n",
       "    <tr>\n",
       "      <th>3</th>\n",
       "      <td>4</td>\n",
       "      <td>434</td>\n",
       "      <td>1</td>\n",
       "      <td>0.06</td>\n",
       "      <td>412644</td>\n",
       "      <td>W000822</td>\n",
       "      <td>NJ</td>\n",
       "      <td>12</td>\n",
       "      <td>b'Watson Coleman'</td>\n",
       "    </tr>\n",
       "    <tr>\n",
       "      <th>4</th>\n",
       "      <td>5</td>\n",
       "      <td>433</td>\n",
       "      <td>1</td>\n",
       "      <td>0.06</td>\n",
       "      <td>412782</td>\n",
       "      <td>P000617</td>\n",
       "      <td>MA</td>\n",
       "      <td>7</td>\n",
       "      <td>b'Pressley'</td>\n",
       "    </tr>\n",
       "  </tbody>\n",
       "</table>\n",
       "</div>"
      ],
      "text/plain": [
       "   rank_from_low  rank_from_high  percentile  ideology      id bioguide_id  \\\n",
       "0              1             437           0      0.00  400237     L000551   \n",
       "1              2             436           0      0.03  400360     S001145   \n",
       "2              3             435           0      0.03  400295     N000147   \n",
       "3              4             434           1      0.06  412644     W000822   \n",
       "4              5             433           1      0.06  412782     P000617   \n",
       "\n",
       "  state  district               name  \n",
       "0    CA        13             b'Lee'  \n",
       "1    IL         9      b'Schakowsky'  \n",
       "2    DC         0          b'Norton'  \n",
       "3    NJ        12  b'Watson Coleman'  \n",
       "4    MA         7        b'Pressley'  "
      ]
     },
     "execution_count": 11,
     "metadata": {},
     "output_type": "execute_result"
    }
   ],
   "source": [
    "ideology = pd.read_csv('govtrack-stats-2019-house-ideology.csv')\n",
    "ideology.head()"
   ]
  },
  {
   "cell_type": "code",
   "execution_count": 12,
   "metadata": {},
   "outputs": [],
   "source": [
    "def ideology_district(row: pd.Series) -> str:\n",
    "    \"\"\"\n",
    "    Compute representation like 'CA-13' or 'MT-AL' \n",
    "    from a row of the above table\n",
    "    \"\"\"\n",
    "    # 0 -> \"AL\" for at-large\n",
    "    district = row.district or 'AL'\n",
    "    return f'{row.state}-{district}'\n",
    "\n",
    "ideology = pd.DataFrame({\n",
    "    'District': ideology.apply(ideology_district, axis=1),\n",
    "    'Govtrack ideology': ideology['ideology'],\n",
    "    'last_name': ideology['name'],\n",
    "})"
   ]
  },
  {
   "cell_type": "markdown",
   "metadata": {},
   "source": [
    "### Join all data sources"
   ]
  },
  {
   "cell_type": "code",
   "execution_count": 13,
   "metadata": {},
   "outputs": [],
   "source": [
    "datasets = [prez, house, election2020, ideology]\n",
    "data = datasets[0]\n",
    "for to_merge in datasets[1:]:\n",
    "    data = pd.merge(data, to_merge, on='District')"
   ]
  },
  {
   "cell_type": "code",
   "execution_count": 14,
   "metadata": {},
   "outputs": [
    {
     "data": {
      "text/plain": [
       "{'AS-AL',\n",
       " 'CA-25',\n",
       " 'DC-AL',\n",
       " 'GU-AL',\n",
       " 'MD-7',\n",
       " 'MP-AL',\n",
       " 'NY-27',\n",
       " 'PR-AL',\n",
       " 'VI-AL',\n",
       " 'WI-7'}"
      ]
     },
     "execution_count": 14,
     "metadata": {},
     "output_type": "execute_result"
    }
   ],
   "source": [
    "original_districts = set.union(*[set(source.District) for source in datasets])\n",
    "remaining_districts = set(data.District)\n",
    "\n",
    "original_districts - remaining_districts"
   ]
  },
  {
   "cell_type": "markdown",
   "metadata": {},
   "source": [
    "There are 10 districts that get lost when joining all the data sources together. Six are districts with nonvoting \"delegate\" representatives in the House (American Samoa, D.C., Guam, Mariana Islands, Puerto Rico, and the Virgin Islands). The remaining four districts have representatives who haven't sponsored/cosponsored enough bills to get an ideology score. All of them are very new: \n",
    "* Mike Garcia (R) in CA-25 took office in 2019 after being elected for the first time in 2018.\n",
    "* Kweisi Mfume (D) in MD-7 took office in May 2020 after his (Democratic) predecessor, Elijah Cummings, passed away.\n",
    "* Chris Jacobs (R) in NY-27 took office in June 2020 after his (Republican) predecessor resigned due to an insider trading scandal.\n",
    "* Tom Tiffany (R) in WI-7 took office in May 2020 after his (Republican) predecessor resigned due to family health issues.\n",
    "\n",
    "CA-25 has a tight race that has yet to be decided as of the time I'm writing this. The other three are safe districts."
   ]
  },
  {
   "cell_type": "markdown",
   "metadata": {},
   "source": [
    "## Understanding the relationship between candidate ideology and 2020 election performance"
   ]
  },
  {
   "cell_type": "markdown",
   "metadata": {},
   "source": [
    "I'll use a few different measures to quantify how well each district's candidate did in 2020:\n",
    "* `House20 winner`: which party won the 2020 House election. \n",
    "  * This isn't technically the winner since not all races have been called, but it's the best I have right now.\n",
    "* `Gain over House18`: the difference between the House Democrat-Republican margin in 2018 and the House Democrat-Republican margin in 2020. For example, if 2018's House Democrat lost by 7 points and 2020's won by 2 points, then the gain would be 9 points (0.09).\n",
    "* `Gain over HouseAvg`: like above, but comparing 2020 to the average Democrat-Republican margin for 2012, 2014, 2016, and 2018.\n",
    "* `Gain over Pres16`: the difference between Clinton's margin in 2016 and the 2020 Democrat-Republican margin. For example, if Clinton lost by 1 point and the 2020 House candidate won by 4 points, then the gain would be 5 points (0.05).\n",
    "\n",
    "The `Gain` measures are an attempt to bake in how liberal/conservative a particular district is. \n",
    "\n",
    "For example, suppose Hillary Clinton won district A by 15 points, and won district B by 0.5 points. We can reasonably assume B is more conservative. A 2020 House candidate who wins district A by 5 points is underwhelming: they did a lot worse than Clinton did. In contrast, a candidate who wins district B by 5 points is impressive: they took a district where Clinton barely won and pulled off a resounding win. That's why I'm looking at the gain.\n",
    "\n",
    "Data for the 2020 presidential election is not yet available, but Daily Kos is working on it now: once it becomes available, that could be another interesting comparison.\n",
    "\n",
    "One could also look at the gain over the 2012 presidential race, or the average of the 2012 and 2016 races (similar to the [Cook Partisan Voter Index, or PVI](https://cookpolitical.com/introducing-2017-cook-political-report-partisan-voter-index)), but for simplicity's sake I'll just look at the three above."
   ]
  },
  {
   "cell_type": "code",
   "execution_count": 15,
   "metadata": {},
   "outputs": [
    {
     "data": {
      "text/html": [
       "<div>\n",
       "<style scoped>\n",
       "    .dataframe tbody tr th:only-of-type {\n",
       "        vertical-align: middle;\n",
       "    }\n",
       "\n",
       "    .dataframe tbody tr th {\n",
       "        vertical-align: top;\n",
       "    }\n",
       "\n",
       "    .dataframe thead th {\n",
       "        text-align: right;\n",
       "    }\n",
       "</style>\n",
       "<table border=\"1\" class=\"dataframe\">\n",
       "  <thead>\n",
       "    <tr style=\"text-align: right;\">\n",
       "      <th></th>\n",
       "      <th>Gain over House18</th>\n",
       "      <th>Gain over HouseAvg</th>\n",
       "      <th>Gain over Pres16</th>\n",
       "    </tr>\n",
       "  </thead>\n",
       "  <tbody>\n",
       "    <tr>\n",
       "      <th>count</th>\n",
       "      <td>431.00</td>\n",
       "      <td>431.00</td>\n",
       "      <td>4.31e+02</td>\n",
       "    </tr>\n",
       "    <tr>\n",
       "      <th>mean</th>\n",
       "      <td>-0.08</td>\n",
       "      <td>-0.09</td>\n",
       "      <td>1.53e-03</td>\n",
       "    </tr>\n",
       "    <tr>\n",
       "      <th>std</th>\n",
       "      <td>0.18</td>\n",
       "      <td>0.16</td>\n",
       "      <td>1.50e-01</td>\n",
       "    </tr>\n",
       "    <tr>\n",
       "      <th>min</th>\n",
       "      <td>-0.80</td>\n",
       "      <td>-1.32</td>\n",
       "      <td>-9.82e-01</td>\n",
       "    </tr>\n",
       "    <tr>\n",
       "      <th>25%</th>\n",
       "      <td>-0.10</td>\n",
       "      <td>-0.16</td>\n",
       "      <td>-4.60e-02</td>\n",
       "    </tr>\n",
       "    <tr>\n",
       "      <th>50%</th>\n",
       "      <td>-0.05</td>\n",
       "      <td>-0.07</td>\n",
       "      <td>5.55e-17</td>\n",
       "    </tr>\n",
       "    <tr>\n",
       "      <th>75%</th>\n",
       "      <td>-0.01</td>\n",
       "      <td>-0.02</td>\n",
       "      <td>4.55e-02</td>\n",
       "    </tr>\n",
       "    <tr>\n",
       "      <th>max</th>\n",
       "      <td>0.73</td>\n",
       "      <td>0.74</td>\n",
       "      <td>8.17e-01</td>\n",
       "    </tr>\n",
       "  </tbody>\n",
       "</table>\n",
       "</div>"
      ],
      "text/plain": [
       "       Gain over House18  Gain over HouseAvg  Gain over Pres16\n",
       "count             431.00              431.00          4.31e+02\n",
       "mean               -0.08               -0.09          1.53e-03\n",
       "std                 0.18                0.16          1.50e-01\n",
       "min                -0.80               -1.32         -9.82e-01\n",
       "25%                -0.10               -0.16         -4.60e-02\n",
       "50%                -0.05               -0.07          5.55e-17\n",
       "75%                -0.01               -0.02          4.55e-02\n",
       "max                 0.73                0.74          8.17e-01"
      ]
     },
     "execution_count": 15,
     "metadata": {},
     "output_type": "execute_result"
    }
   ],
   "source": [
    "clinton16_margin = -data['Trump16 margin']\n",
    "data['Gain over Pres16'] = data['HouseDem20 margin'] - clinton16_margin\n",
    "data['Gain over House18'] = data['HouseDem20 margin'] - data['HouseDem18 margin']\n",
    "data['Gain over HouseAvg'] = data['HouseDemAvg margin'] - data['HouseDem18 margin']\n",
    "\n",
    "data.loc[:, ['Gain over House18', 'Gain over HouseAvg', 'Gain over Pres16']].describe()"
   ]
  },
  {
   "cell_type": "markdown",
   "metadata": {},
   "source": [
    "Let's also pull out only the swing districts, as defined by the Washington Post. (There were a couple upsets in districts that were considered \"safe\", but I won't be looking into them here)."
   ]
  },
  {
   "cell_type": "code",
   "execution_count": 16,
   "metadata": {},
   "outputs": [],
   "source": [
    "swing_districts = data[data['Safety'] == 'Vulnerable'].drop('Safety', axis=1)\n",
    "dem_held_swing_districts = swing_districts[swing_districts['Incumbent party'] == 'D'].drop('Incumbent party', axis=1)"
   ]
  },
  {
   "cell_type": "markdown",
   "metadata": {},
   "source": [
    "### Distribution of ideology score between winners and losers"
   ]
  },
  {
   "cell_type": "code",
   "execution_count": 17,
   "metadata": {},
   "outputs": [
    {
     "data": {
      "image/png": "[encoded data removed]",
      "text/plain": [
       "<Figure size 600x300 with 1 Axes>"
      ]
     },
     "metadata": {
      "needs_background": "light"
     },
     "output_type": "display_data"
    }
   ],
   "source": [
    "fig, ax = plt.subplots(figsize=(6, 3), dpi=100)\n",
    "for_plot = dem_held_swing_districts[dem_held_swing_districts['House20 winner'] != 'Tie']\n",
    "sns.histplot(\n",
    "    data=for_plot, x='Govtrack ideology', \n",
    "    hue='House20 winner', bins=np.arange(0.2, 0.801, .1),\n",
    "    palette={'Rep': 'tab:orange', 'Dem': 'tab:green'}\n",
    ")\n",
    "plt.tight_layout()"
   ]
  },
  {
   "cell_type": "markdown",
   "metadata": {},
   "source": [
    "If this graph captured the whole story, then it would be clear evidence in favor of progressives' claims. It says that within swing districts, Democrats who lost (orange histogram) were more conservative than Democrats who won (green histogram). \n",
    "\n",
    "But of course, this graph doesn't capture the whole story! It's possible that more conservative Democrats were running in more conservative districts, where their races were tougher to begin with. In other words, we can't conclude from this information alone that being more conservative **caused** these Democrats to lose: the political climate within each district is a big confounding factor.\n",
    "\n",
    "This motivates looking at what I'm calling the gains (i.e., the relative margin between previous elections and this one), which is what we'll do next."
   ]
  },
  {
   "cell_type": "markdown",
   "metadata": {},
   "source": [
    "### Comparing 2020 margin vs ideology score"
   ]
  },
  {
   "cell_type": "code",
   "execution_count": 18,
   "metadata": {},
   "outputs": [],
   "source": [
    "def scatter_vs_ideology(y: str, dataset: pd.DataFrame = swing_districts, **plot_kwargs):\n",
    "    \"\"\"\n",
    "    Draws a scatterplot comparing the specified column to\n",
    "    govtrack ideology. Points are colored according to incumbent\n",
    "    party, and marker style (• vs x) denotes who won in 2020.\n",
    "    \"\"\"\n",
    "    fig, ax = plt.subplots(figsize=(6, 6), dpi=100)\n",
    "\n",
    "    # Draw x and y axes: y axis is at 0.5 (political center)\n",
    "    ax.axvline(0.5, color='black', alpha=0.2)\n",
    "    ax.plot([-1.03, 1.03], [0, 0], color='black', alpha=0.2, ls='--')\n",
    "\n",
    "    ax_ylim = np.abs(dataset[y]).max() * 1.02\n",
    "    sns.scatterplot(\n",
    "        data=dataset, x='Govtrack ideology', y=y, \n",
    "        hue='Incumbent party', style='House20 winner',\n",
    "        palette={'R': 'tab:red', 'D': 'tab:blue'}, alpha=0.7,\n",
    "        **plot_kwargs\n",
    "    )\n",
    "    ax.legend(loc=2)\n",
    "    ax.axis([-0.02, 1.02, -ax_ylim, ax_ylim])\n",
    "    plt.tight_layout() "
   ]
  },
  {
   "cell_type": "code",
   "execution_count": 19,
   "metadata": {
    "scrolled": false
   },
   "outputs": [
    {
     "data": {
      "image/png": "[encoded data removed]",
      "text/plain": [
       "<Figure size 600x600 with 1 Axes>"
      ]
     },
     "metadata": {
      "needs_background": "light"
     },
     "output_type": "display_data"
    }
   ],
   "source": [
    "scatter_vs_ideology('HouseDem20 margin')"
   ]
  },
  {
   "cell_type": "markdown",
   "metadata": {},
   "source": [
    "There's a negative correlation among districts with Democratic incumbents (blue points). In other words, Democratic candidates who are more conservative (higher govtrack ideology score) win by a smaller margin / lose by a bigger margin than more progressive ones (lower govtrack ideology score). This is consistent with what we saw above in the histogram. Just like before, we should be wary of the confounding factor of how liberal/conservative a particular district is.\n",
    "\n",
    "Note that the negative correlation is true for each of the three large subgroups of districts:\n",
    "* Districts with Democratic incumbents who won (points marked with a blue `x`)\n",
    "* Districts with Democratic incumbents who lost (points marked with a blue `•`)\n",
    "* Districts with Republican incumbents who won (points marked with a red `•`)"
   ]
  },
  {
   "cell_type": "markdown",
   "metadata": {},
   "source": [
    "### Comparing gain over 2018 house election vs ideology score"
   ]
  },
  {
   "cell_type": "code",
   "execution_count": 20,
   "metadata": {},
   "outputs": [
    {
     "data": {
      "image/png": "[encoded data removed]",
      "text/plain": [
       "<Figure size 600x600 with 1 Axes>"
      ]
     },
     "metadata": {
      "needs_background": "light"
     },
     "output_type": "display_data"
    }
   ],
   "source": [
    "scatter_vs_ideology('Gain over House18')"
   ]
  },
  {
   "cell_type": "markdown",
   "metadata": {},
   "source": [
    "I find this plot *fascinating*. A few things that jump out at me:\n",
    "\n",
    "**Looking at the overall plot:**\n",
    "* The \"gains\" are mostly negative. In other words, as has been widely reported on, Democrats tended to do worse in 2020 than in 2018.\n",
    "* A few of the points are slightly misleading, since the incumbent chose not to run. These include Justin Amash (leftmost red point).\n",
    "\n",
    "**Looking at the districts with Democratic incumbents (blue points):**\n",
    "* There's a slight negative correlation: in other words, Democratic incumbents who were more conservative tended to underperform relative to 2018. \n",
    "  * The negative correlation looks more pronounced among districts where the Democratic incumbent lost (points marked with a blue `•`).\n",
    "  * Specifically, it seems to be largely driven by the three most conservative incumbents (rightmost blue points). We'll investigate their districts a little more below.\n",
    "* The most progressive incumbent (leftmost point) lost, and did about 5% worse than they did in 2018 (i.e., a \"gain\" of -5%). This looks pretty close to the average gain.\n",
    "\n",
    "**Looking at the districts with Republican incumbents (red points):**\n",
    "* Almost all of them won their races (i.e., there are a lot more red `•`s than red `x`s).\n",
    "* Out of the three that flipped, two of them saw Dems doing *much* better than they did in 2018. We'll investigate them a little more below.\n",
    "* There's a slight *positive* correlation: in other words, Republican incumbents who were more conservative tended to underperform relative to 2018 (their Democratic opponents overperformed).\n"
   ]
  },
  {
   "cell_type": "markdown",
   "metadata": {},
   "source": [
    "### Comparing gain over 2012-2018 House average vs ideology score"
   ]
  },
  {
   "cell_type": "code",
   "execution_count": 21,
   "metadata": {},
   "outputs": [
    {
     "data": {
      "image/png": "[encoded data removed]",
      "text/plain": [
       "<Figure size 600x600 with 1 Axes>"
      ]
     },
     "metadata": {
      "needs_background": "light"
     },
     "output_type": "display_data"
    }
   ],
   "source": [
    "scatter_vs_ideology('Gain over HouseAvg')"
   ]
  },
  {
   "cell_type": "markdown",
   "metadata": {},
   "source": [
    "The overall pattern looks similar to the previous graph. Most districts fall below the dotted horizontal line: in other words, the Democrats didn't just do worse than 2018; they did worse than they did over the last four elections (on average)."
   ]
  },
  {
   "cell_type": "markdown",
   "metadata": {},
   "source": [
    "### Comparing gain over 2016 presidential election vs ideology score"
   ]
  },
  {
   "cell_type": "code",
   "execution_count": 22,
   "metadata": {
    "scrolled": false
   },
   "outputs": [
    {
     "data": {
      "image/png": "[encoded data removed]",
      "text/plain": [
       "<Figure size 600x600 with 1 Axes>"
      ]
     },
     "metadata": {
      "needs_background": "light"
     },
     "output_type": "display_data"
    }
   ],
   "source": [
    "scatter_vs_ideology('Gain over Pres16')"
   ]
  },
  {
   "cell_type": "markdown",
   "metadata": {},
   "source": [
    "This graph is interesting, too. Note that this a slightly different comparison from the last two graphs: Before, we were comparing 2020 House results to 2018 House results, or to 2012-2018 averaged House results. Now, we're comparing 2020 House results to 2016 presidential results.\n",
    "\n",
    "**Looking at the districts with Democratic incumbents (blue points):**\n",
    "* Overall, there's a *positive* correlation: in other words, Democratic incumbents who were more progressive tended to underperform relative to 2018. \n",
    "  * Among districts where the incumbent Democrat won (points marked with a blue `x`), this correlation seems to completely disappear: all of these districts have a moderate improvement over 2016, regardless of the incumbent's ideology\n",
    "  * The correlation is driven entirely by the districts where the incumbent Democrat *lost*. In other words, among incumbent Democrats who lost (points marked with a blue `•`), the progressives (further left) did a lot worse relative to 2016 than the moderates (further right).\n",
    "* The two biggest losers relative to 2016 (the two lowest blue `•`s) were also two of the most progressive. We'll investigate this a little more below.\n",
    "\n",
    "**Looking at the districts with Republican incumbents (red points):**\n",
    "* There's a *positive* correlation: in other words, Republican incumbents who were more conservative tended to underperform relative to 2016 (their Democratic opponents overperformed)."
   ]
  },
  {
   "cell_type": "markdown",
   "metadata": {},
   "source": [
    "## Investigating individual districts"
   ]
  },
  {
   "cell_type": "markdown",
   "metadata": {},
   "source": [
    "###  The three most conservative Democratic incumbents"
   ]
  },
  {
   "cell_type": "code",
   "execution_count": 23,
   "metadata": {},
   "outputs": [
    {
     "data": {
      "text/html": [
       "<div>\n",
       "<style scoped>\n",
       "    .dataframe tbody tr th:only-of-type {\n",
       "        vertical-align: middle;\n",
       "    }\n",
       "\n",
       "    .dataframe tbody tr th {\n",
       "        vertical-align: top;\n",
       "    }\n",
       "\n",
       "    .dataframe thead th {\n",
       "        text-align: right;\n",
       "    }\n",
       "</style>\n",
       "<table border=\"1\" class=\"dataframe\">\n",
       "  <thead>\n",
       "    <tr style=\"text-align: right;\">\n",
       "      <th></th>\n",
       "      <th>District</th>\n",
       "      <th>Trump16 margin</th>\n",
       "      <th>Obama12 margin</th>\n",
       "      <th>HouseDem18 margin</th>\n",
       "      <th>HouseDemAvg margin</th>\n",
       "      <th>RPT</th>\n",
       "      <th>HouseDem20 margin</th>\n",
       "      <th>House20 winner</th>\n",
       "      <th>Govtrack ideology</th>\n",
       "      <th>last_name</th>\n",
       "      <th>Gain over Pres16</th>\n",
       "      <th>Gain over House18</th>\n",
       "      <th>Gain over HouseAvg</th>\n",
       "    </tr>\n",
       "  </thead>\n",
       "  <tbody>\n",
       "    <tr>\n",
       "      <th>341</th>\n",
       "      <td>SC-1</td>\n",
       "      <td>0.13</td>\n",
       "      <td>-1.81e-01</td>\n",
       "      <td>0.01</td>\n",
       "      <td>-0.36</td>\n",
       "      <td>1.00</td>\n",
       "      <td>-0.01</td>\n",
       "      <td>Rep</td>\n",
       "      <td>0.52</td>\n",
       "      <td>b'Cunningham'</td>\n",
       "      <td>0.12</td>\n",
       "      <td>-0.03</td>\n",
       "      <td>-0.38</td>\n",
       "    </tr>\n",
       "    <tr>\n",
       "      <th>290</th>\n",
       "      <td>NY-22</td>\n",
       "      <td>0.15</td>\n",
       "      <td>-4.00e-03</td>\n",
       "      <td>0.02</td>\n",
       "      <td>-0.20</td>\n",
       "      <td>0.79</td>\n",
       "      <td>-0.11</td>\n",
       "      <td>Rep</td>\n",
       "      <td>0.53</td>\n",
       "      <td>b'Brindisi'</td>\n",
       "      <td>0.04</td>\n",
       "      <td>-0.13</td>\n",
       "      <td>-0.23</td>\n",
       "    </tr>\n",
       "    <tr>\n",
       "      <th>216</th>\n",
       "      <td>MN-7</td>\n",
       "      <td>0.31</td>\n",
       "      <td>-9.80e-02</td>\n",
       "      <td>0.04</td>\n",
       "      <td>0.11</td>\n",
       "      <td>0.89</td>\n",
       "      <td>-0.13</td>\n",
       "      <td>Rep</td>\n",
       "      <td>0.62</td>\n",
       "      <td>b'Peterson'</td>\n",
       "      <td>0.18</td>\n",
       "      <td>-0.17</td>\n",
       "      <td>0.07</td>\n",
       "    </tr>\n",
       "  </tbody>\n",
       "</table>\n",
       "</div>"
      ],
      "text/plain": [
       "    District  Trump16 margin  Obama12 margin  HouseDem18 margin  \\\n",
       "341     SC-1            0.13       -1.81e-01               0.01   \n",
       "290    NY-22            0.15       -4.00e-03               0.02   \n",
       "216     MN-7            0.31       -9.80e-02               0.04   \n",
       "\n",
       "     HouseDemAvg margin   RPT  HouseDem20 margin House20 winner  \\\n",
       "341               -0.36  1.00              -0.01            Rep   \n",
       "290               -0.20  0.79              -0.11            Rep   \n",
       "216                0.11  0.89              -0.13            Rep   \n",
       "\n",
       "     Govtrack ideology      last_name  Gain over Pres16  Gain over House18  \\\n",
       "341               0.52  b'Cunningham'              0.12              -0.03   \n",
       "290               0.53    b'Brindisi'              0.04              -0.13   \n",
       "216               0.62    b'Peterson'              0.18              -0.17   \n",
       "\n",
       "     Gain over HouseAvg  \n",
       "341               -0.38  \n",
       "290               -0.23  \n",
       "216                0.07  "
      ]
     },
     "execution_count": 23,
     "metadata": {},
     "output_type": "execute_result"
    }
   ],
   "source": [
    "dem_held_swing_districts.sort_values('Govtrack ideology').iloc[-3:, :]"
   ]
  },
  {
   "cell_type": "markdown",
   "metadata": {},
   "source": [
    "Some facts about them:\n",
    "* All three did better in 2020 than Hillary Clinton did in 2016\n",
    "* All three did worse in 2020 than they did in 2018\n",
    "* Brindisi (NY-22) and Peterson (MN-7) still have a lot of votes yet to be counted, as of my writing this\n",
    "\n",
    "I also looked a little at their individual campaigns:\n",
    "\n",
    "**Joe Cunningham (SC-1)** campaigned on a record of bipartisanship, [Republican support](https://www.youtube.com/watch?v=fvb6erwKYxY), and [COVID relief](https://www.youtube.com/watch?v=q-HSGHjlnms), but lost to a Republican who attacked him in debates for [being too close to Pelosi](https://www.usnews.com/news/best-states/south-carolina/articles/2020-10-06/cunningham-mace-hit-same-themes-at-sc-1st-district-debate). I found one of his opponent's ads that mentions support for \"[Green New Deal taxes](https://www.youtube.com/watch?v=UvEpFsdXfcA)\" despite [Cunningham's opposition to the plan](https://www.postandcourier.com/politics/sc-1st-congressional-district-cunningham-and-mace-differ-on-climate-change-science-views/article_52440c16-f439-11ea-a4c9-432b0c72caf4.html), but it seems like most of the attacks-by-association focused on Pelosi and Biden (rather than AOC or other progressives).\n",
    "\n",
    "**Anthony Brindisi (NY-22)** also campaigned on [bipartisanship](https://www.youtube.com/watch?v=Gjqj8RSWn-M) and a record of [legislative accomplishment](https://www.uticaod.com/story/news/politics/elections/national/2020/10/27/ny-22-brindisi-tenney-meet-third-debate-election-day-looms/3745154001/). His opponent [tried to tie him to the movement to defund the police](https://www.youtube.com/watch?v=gaAbNA5Dm3M), but a local news story about their positions make it clear that Brindisi and his opponent [aren't very far apart on police reform](https://www.uticaod.com/story/news/politics/elections/national/2020/10/23/ny-22-brindisi-tenney-weigh-need-police-reform/3720984001/).\n",
    "\n",
    "**Collin Peterson (MN-7)** ran on a 30-year record of bipartisanship in a district where Trump beat Clinton by 31 points. He [opposes Obamacare, supports abortion restrictions, and agrees with his opponent on many issues](https://www.grandforksherald.com/news/government-and-politics/6724871-Minnesota-7th-Collin-Peterson-faces-his-hardest-test-yet-in-Michelle-Fischbach). He was attacked for [Democrats' impeachment of Donald Trump, despite his own vote to oppose impeachment](https://www.sctimes.com/story/opinion/2019/11/27/attack-ads-rep-peterson-misleading/4310438002/).\n",
    "\n"
   ]
  },
  {
   "cell_type": "markdown",
   "metadata": {},
   "source": [
    "###  The two biggest flips by Democrats"
   ]
  },
  {
   "cell_type": "code",
   "execution_count": 24,
   "metadata": {},
   "outputs": [
    {
     "data": {
      "text/html": [
       "<div>\n",
       "<style scoped>\n",
       "    .dataframe tbody tr th:only-of-type {\n",
       "        vertical-align: middle;\n",
       "    }\n",
       "\n",
       "    .dataframe tbody tr th {\n",
       "        vertical-align: top;\n",
       "    }\n",
       "\n",
       "    .dataframe thead th {\n",
       "        text-align: right;\n",
       "    }\n",
       "</style>\n",
       "<table border=\"1\" class=\"dataframe\">\n",
       "  <thead>\n",
       "    <tr style=\"text-align: right;\">\n",
       "      <th></th>\n",
       "      <th>District</th>\n",
       "      <th>Trump16 margin</th>\n",
       "      <th>Obama12 margin</th>\n",
       "      <th>HouseDem18 margin</th>\n",
       "      <th>HouseDemAvg margin</th>\n",
       "      <th>RPT</th>\n",
       "      <th>Incumbent party</th>\n",
       "      <th>HouseDem20 margin</th>\n",
       "      <th>House20 winner</th>\n",
       "      <th>Govtrack ideology</th>\n",
       "      <th>last_name</th>\n",
       "      <th>Gain over Pres16</th>\n",
       "      <th>Gain over House18</th>\n",
       "      <th>Gain over HouseAvg</th>\n",
       "    </tr>\n",
       "  </thead>\n",
       "  <tbody>\n",
       "    <tr>\n",
       "      <th>232</th>\n",
       "      <td>NC-2</td>\n",
       "      <td>0.10</td>\n",
       "      <td>-0.13</td>\n",
       "      <td>-0.05</td>\n",
       "      <td>-0.13</td>\n",
       "      <td>0.98</td>\n",
       "      <td>R</td>\n",
       "      <td>0.28</td>\n",
       "      <td>Dem</td>\n",
       "      <td>0.63</td>\n",
       "      <td>b'Holding'</td>\n",
       "      <td>0.38</td>\n",
       "      <td>0.34</td>\n",
       "      <td>-0.07</td>\n",
       "    </tr>\n",
       "    <tr>\n",
       "      <th>236</th>\n",
       "      <td>NC-6</td>\n",
       "      <td>0.15</td>\n",
       "      <td>-0.13</td>\n",
       "      <td>-0.13</td>\n",
       "      <td>-0.18</td>\n",
       "      <td>0.89</td>\n",
       "      <td>R</td>\n",
       "      <td>0.25</td>\n",
       "      <td>Dem</td>\n",
       "      <td>0.74</td>\n",
       "      <td>b'Walker'</td>\n",
       "      <td>0.39</td>\n",
       "      <td>0.38</td>\n",
       "      <td>-0.05</td>\n",
       "    </tr>\n",
       "  </tbody>\n",
       "</table>\n",
       "</div>"
      ],
      "text/plain": [
       "    District  Trump16 margin  Obama12 margin  HouseDem18 margin  \\\n",
       "232     NC-2            0.10           -0.13              -0.05   \n",
       "236     NC-6            0.15           -0.13              -0.13   \n",
       "\n",
       "     HouseDemAvg margin   RPT Incumbent party  HouseDem20 margin  \\\n",
       "232               -0.13  0.98               R               0.28   \n",
       "236               -0.18  0.89               R               0.25   \n",
       "\n",
       "    House20 winner  Govtrack ideology   last_name  Gain over Pres16  \\\n",
       "232            Dem               0.63  b'Holding'              0.38   \n",
       "236            Dem               0.74   b'Walker'              0.39   \n",
       "\n",
       "     Gain over House18  Gain over HouseAvg  \n",
       "232               0.34               -0.07  \n",
       "236               0.38               -0.05  "
      ]
     },
     "execution_count": 24,
     "metadata": {},
     "output_type": "execute_result"
    }
   ],
   "source": [
    "biggest_flips = swing_districts.sort_values('HouseDem20 margin', ascending=False)\n",
    "biggest_flips.iloc[:2, :]"
   ]
  },
  {
   "cell_type": "markdown",
   "metadata": {},
   "source": [
    "North Carolina was [redistricted in 2019](https://www.washingtonpost.com/politics/2019/12/03/north-carolinas-new-congressional-map-shifts-two-seats-toward-democrats/) after a state court ruled its old map unconstitutionally partisan, and these two districts were expected to easily flip in favor of Democrats."
   ]
  },
  {
   "cell_type": "markdown",
   "metadata": {},
   "source": [
    "### The two most progressive losers (compared to Clinton in 2016)"
   ]
  },
  {
   "cell_type": "code",
   "execution_count": 25,
   "metadata": {
    "scrolled": true
   },
   "outputs": [
    {
     "data": {
      "text/html": [
       "<div>\n",
       "<style scoped>\n",
       "    .dataframe tbody tr th:only-of-type {\n",
       "        vertical-align: middle;\n",
       "    }\n",
       "\n",
       "    .dataframe tbody tr th {\n",
       "        vertical-align: top;\n",
       "    }\n",
       "\n",
       "    .dataframe thead th {\n",
       "        text-align: right;\n",
       "    }\n",
       "</style>\n",
       "<table border=\"1\" class=\"dataframe\">\n",
       "  <thead>\n",
       "    <tr style=\"text-align: right;\">\n",
       "      <th></th>\n",
       "      <th>District</th>\n",
       "      <th>Trump16 margin</th>\n",
       "      <th>Obama12 margin</th>\n",
       "      <th>HouseDem18 margin</th>\n",
       "      <th>HouseDemAvg margin</th>\n",
       "      <th>RPT</th>\n",
       "      <th>HouseDem20 margin</th>\n",
       "      <th>House20 winner</th>\n",
       "      <th>Govtrack ideology</th>\n",
       "      <th>last_name</th>\n",
       "      <th>Gain over Pres16</th>\n",
       "      <th>Gain over House18</th>\n",
       "      <th>Gain over HouseAvg</th>\n",
       "    </tr>\n",
       "  </thead>\n",
       "  <tbody>\n",
       "    <tr>\n",
       "      <th>111</th>\n",
       "      <td>FL-26</td>\n",
       "      <td>-0.16</td>\n",
       "      <td>0.12</td>\n",
       "      <td>1.75e-02</td>\n",
       "      <td>-5.84e-03</td>\n",
       "      <td>0.95</td>\n",
       "      <td>-0.03</td>\n",
       "      <td>Rep</td>\n",
       "      <td>0.23</td>\n",
       "      <td>b'Mucarsel-Powell'</td>\n",
       "      <td>-0.20</td>\n",
       "      <td>-0.05</td>\n",
       "      <td>-0.02</td>\n",
       "    </tr>\n",
       "    <tr>\n",
       "      <th>41</th>\n",
       "      <td>CA-21</td>\n",
       "      <td>-0.15</td>\n",
       "      <td>0.11</td>\n",
       "      <td>7.59e-03</td>\n",
       "      <td>-1.10e-01</td>\n",
       "      <td>0.83</td>\n",
       "      <td>-0.04</td>\n",
       "      <td>Rep</td>\n",
       "      <td>0.31</td>\n",
       "      <td>b'Cox'</td>\n",
       "      <td>-0.19</td>\n",
       "      <td>-0.04</td>\n",
       "      <td>-0.12</td>\n",
       "    </tr>\n",
       "  </tbody>\n",
       "</table>\n",
       "</div>"
      ],
      "text/plain": [
       "    District  Trump16 margin  Obama12 margin  HouseDem18 margin  \\\n",
       "111    FL-26           -0.16            0.12           1.75e-02   \n",
       "41     CA-21           -0.15            0.11           7.59e-03   \n",
       "\n",
       "     HouseDemAvg margin   RPT  HouseDem20 margin House20 winner  \\\n",
       "111           -5.84e-03  0.95              -0.03            Rep   \n",
       "41            -1.10e-01  0.83              -0.04            Rep   \n",
       "\n",
       "     Govtrack ideology           last_name  Gain over Pres16  \\\n",
       "111               0.23  b'Mucarsel-Powell'             -0.20   \n",
       "41                0.31              b'Cox'             -0.19   \n",
       "\n",
       "     Gain over House18  Gain over HouseAvg  \n",
       "111              -0.05               -0.02  \n",
       "41               -0.04               -0.12  "
      ]
     },
     "execution_count": 25,
     "metadata": {},
     "output_type": "execute_result"
    }
   ],
   "source": [
    "dem_held_swing_districts.sort_values('Gain over Pres16').iloc[:2, :]"
   ]
  },
  {
   "cell_type": "markdown",
   "metadata": {},
   "source": [
    "These are both districts that Obama (in 2012) and Clinton (in 2016) solidly won, but Democrats just barely won in 2018. While the Republican in FL-26 has claimed victory, the CA-21 race is still in play.\n",
    "\n",
    "**Debbie Mucarsel-Powell (FL-26)**, elected in 2018, ran on a [typical Democratic platform](https://www.debbiemucarselpowell.com/), supporting the [ACA over Medicare for All](https://floridianpress.com/2020/10/mucarsel-powell-supports-medicare-for-all-but-now-says-its-not-the-time-to-discuss-it/), and co-sponsoring the Green New Deal. Despite this, she appears to have been attacked primarily for [tenuous connections to Ukrainian oligarchs](https://www.miamiherald.com/news/politics-government/article214974800.html) rather than her political record. Mucarsel-Powell is an Ecuadorian immigrant, her opponent is a Cuban immigrant, and when she won the seat in 2018, she was \"[the first person not from Cuba to represent the area in more than three decades](https://www.cnbc.com/2020/10/30/florida-house-race-debbie-mucarsel-powell-carlos-gimenez-in-tight-race.html)\".\n",
    "\n",
    "**TJ Cox (CA-21)** ran on [supporting working families](https://ballotpedia.org/California%27s_21st_Congressional_District_election,_2020), and attacked his opponent (who held the seat before 2018) for being a Trump loyalist. His opponent's attack ads focused on alleged [corruption](https://www.youtube.com/watch?v=6yB82icECIg) and [tax evasion](https://www.youtube.com/watch?v=XiTrnlJ0Bk8)."
   ]
  },
  {
   "cell_type": "markdown",
   "metadata": {},
   "source": [
    "### The three most progressive winners"
   ]
  },
  {
   "cell_type": "code",
   "execution_count": 26,
   "metadata": {},
   "outputs": [
    {
     "data": {
      "text/html": [
       "<div>\n",
       "<style scoped>\n",
       "    .dataframe tbody tr th:only-of-type {\n",
       "        vertical-align: middle;\n",
       "    }\n",
       "\n",
       "    .dataframe tbody tr th {\n",
       "        vertical-align: top;\n",
       "    }\n",
       "\n",
       "    .dataframe thead th {\n",
       "        text-align: right;\n",
       "    }\n",
       "</style>\n",
       "<table border=\"1\" class=\"dataframe\">\n",
       "  <thead>\n",
       "    <tr style=\"text-align: right;\">\n",
       "      <th></th>\n",
       "      <th>District</th>\n",
       "      <th>Trump16 margin</th>\n",
       "      <th>Obama12 margin</th>\n",
       "      <th>HouseDem18 margin</th>\n",
       "      <th>HouseDemAvg margin</th>\n",
       "      <th>RPT</th>\n",
       "      <th>HouseDem20 margin</th>\n",
       "      <th>House20 winner</th>\n",
       "      <th>Govtrack ideology</th>\n",
       "      <th>last_name</th>\n",
       "      <th>Gain over Pres16</th>\n",
       "      <th>Gain over House18</th>\n",
       "      <th>Gain over HouseAvg</th>\n",
       "    </tr>\n",
       "  </thead>\n",
       "  <tbody>\n",
       "    <tr>\n",
       "      <th>319</th>\n",
       "      <td>OR-4</td>\n",
       "      <td>-1.00e-03</td>\n",
       "      <td>0.07</td>\n",
       "      <td>0.15</td>\n",
       "      <td>0.18</td>\n",
       "      <td>1.00</td>\n",
       "      <td>0.05</td>\n",
       "      <td>Dem</td>\n",
       "      <td>0.27</td>\n",
       "      <td>b'DeFazio'</td>\n",
       "      <td>0.05</td>\n",
       "      <td>-9.80e-02</td>\n",
       "      <td>0.03</td>\n",
       "    </tr>\n",
       "    <tr>\n",
       "      <th>328</th>\n",
       "      <td>PA-8</td>\n",
       "      <td>9.60e-02</td>\n",
       "      <td>0.12</td>\n",
       "      <td>0.09</td>\n",
       "      <td>-0.09</td>\n",
       "      <td>0.93</td>\n",
       "      <td>0.03</td>\n",
       "      <td>Dem</td>\n",
       "      <td>0.30</td>\n",
       "      <td>b'Cartwright'</td>\n",
       "      <td>0.13</td>\n",
       "      <td>-5.88e-02</td>\n",
       "      <td>-0.18</td>\n",
       "    </tr>\n",
       "    <tr>\n",
       "      <th>256</th>\n",
       "      <td>NJ-7</td>\n",
       "      <td>-1.10e-02</td>\n",
       "      <td>-0.06</td>\n",
       "      <td>0.05</td>\n",
       "      <td>-0.11</td>\n",
       "      <td>0.82</td>\n",
       "      <td>0.04</td>\n",
       "      <td>Dem</td>\n",
       "      <td>0.31</td>\n",
       "      <td>b'Malinowski'</td>\n",
       "      <td>0.03</td>\n",
       "      <td>-8.19e-03</td>\n",
       "      <td>-0.16</td>\n",
       "    </tr>\n",
       "  </tbody>\n",
       "</table>\n",
       "</div>"
      ],
      "text/plain": [
       "    District  Trump16 margin  Obama12 margin  HouseDem18 margin  \\\n",
       "319     OR-4       -1.00e-03            0.07               0.15   \n",
       "328     PA-8        9.60e-02            0.12               0.09   \n",
       "256     NJ-7       -1.10e-02           -0.06               0.05   \n",
       "\n",
       "     HouseDemAvg margin   RPT  HouseDem20 margin House20 winner  \\\n",
       "319                0.18  1.00               0.05            Dem   \n",
       "328               -0.09  0.93               0.03            Dem   \n",
       "256               -0.11  0.82               0.04            Dem   \n",
       "\n",
       "     Govtrack ideology      last_name  Gain over Pres16  Gain over House18  \\\n",
       "319               0.27     b'DeFazio'              0.05          -9.80e-02   \n",
       "328               0.30  b'Cartwright'              0.13          -5.88e-02   \n",
       "256               0.31  b'Malinowski'              0.03          -8.19e-03   \n",
       "\n",
       "     Gain over HouseAvg  \n",
       "319                0.03  \n",
       "328               -0.18  \n",
       "256               -0.16  "
      ]
     },
     "execution_count": 26,
     "metadata": {},
     "output_type": "execute_result"
    }
   ],
   "source": [
    "winners = dem_held_swing_districts[dem_held_swing_districts['House20 winner'] == 'Dem']\n",
    "winners.sort_values('Govtrack ideology').iloc[:3, :]"
   ]
  },
  {
   "cell_type": "markdown",
   "metadata": {},
   "source": [
    "Out of these three districts, Trump narrowly lost OR-4 and NJ-7 (by 0.1% and 1.1% respectively), and won PA-8 by a decisive margin (9.6%).\n",
    "\n",
    "**Peter DeFazio (OR-4)** is a 34-year incumbent who has co-sponsored the [Green New Deal and Medicare for All](https://www.kgw.com/article/entertainment/television/programs/straight-talk/oregon-4th-district-congressional-race-defazio-skarlatos-preview/283-95b97974-285d-44c4-bcfd-be04811695b6). His opponent is a Republican famous for [stopping a terrorist attack on a Paris train](https://en.wikipedia.org/wiki/Alek_Skarlatos) with ties to the district's large timber industry. While his ads mention DeFazio's [\"ties to socialism\" and the Green New Deal's potential effect on the timber industry](https://twitter.com/alekskarlatos/status/1303437957345538048?lang=en), the focus is primarily on DeFazio's length tenure in Washington and how it puts him out of touch with Oregonians.\n",
    "\n",
    "**Matt Cartwright (PA-8)** supports modified versions of progressive proposals, such as a [Green New Deal without a carbonless deadline](https://www.citizensvoice.com/news/election/cartwright-bognet-slug-it-out-in-debate-for-8th-congressional-district/article_7d84a083-891f-5529-a767-7aaded1f17bf.html) and [reallocating funding from police while expanding officer training](https://www.politifact.com/factchecks/2020/jul/09/jim-bognet/no-pa-congressman-matt-cartwright-did-not-call-def/). He [cosponsored Medicare for All](https://www.congress.gov/bill/116th-congress/house-bill/1384/cosponsors?searchResultViewType=expanded), but backed away from it somewhat during a debate. His opponent, a former Trump administration official, wants Pennsylvania to be the \"[Saudi Arabia of the 21st century](https://www.pbssocal.org/programs/wvia-special-presentations/decision-2020-8th-congressional-district-debate-ultmsd/)\". Many of his attacks focused on Cartwright voting \"in lockstep with\" Speaker Pelosi, Rep. Ocasio-Cortez, and Rep. Ilhan Omar.\n",
    "\n",
    "**Tom Malinowski (NJ-7)** [ran on](https://newjerseyglobe.com/congress/malinowski-kean-disagree-on-health-care-campaign-finance-in-nj-7-debate/) defending the ACA (rather than Medicare for All), campaign finance reform, and COVID relief for small businesses. The only attack ads against him I could find used [a misleadingly edited audio clip and association with Pelosi](https://www.youtube.com/watch?v=hY4mn2cSSJU), [Malinowski's opposition to the Trump tax cuts](https://www.youtube.com/watch?v=ye3B8tI6l80), and [false accusations of helping sex offenders](https://www.washingtonpost.com/politics/2020/09/22/attack-ad-falsely-claims-lawmaker-helped-sexual-predators-hide-shadows/)."
   ]
  },
  {
   "cell_type": "markdown",
   "metadata": {},
   "source": [
    "# Conclusions"
   ]
  },
  {
   "cell_type": "markdown",
   "metadata": {},
   "source": [
    "As with any interpretation of data, this is necessarily subjective. I encourage you to use the data to draw your own conclusions, and also to acknowledge its limitations.\n",
    "\n",
    "* Pelosi was a much more common antagonist in anti-Democratic attack ads than progressives like AOC or Ilhan Omar.\n",
    "* Moderate Democratic incumbents in swing districts did much worse than 2018 (but still much better than Clinton in 2016). Their Republican opponents used a lot of attack ads tying them to Pelosi and Democratic progressives. These ties simply didn't exist, and many were closer ideologically to their Republican opponents than to someone like AOC.\n",
    "* Progressive Democratic incumbents in swing districts did slightly worse than 2018, but tended to do either much better or much worse than Clinton in 2016. \n",
    "  * Among those who lost, most of the campaigning against them focused on issues not related to ideology: Mucarsel-Powell in FL-26 was attacked over her husband's employers, and Cox in CA-21 was attacked for alleged financial impropriety.\n",
    "  * Among those who won, the attack ads seemed very similar in tone to the ones used against moderates. In other words, **in swing districts, moderates and progressives alike were attacked for their alleged ties to the far left, but those attacks didn't have as much of an effect on progressives**.\n",
    "* Based on this data, it's hard for me to conclude that the Democratic party moved too far to the left. Swing progressives did better relative to 2018 than their swing moderate counterparts. A limited subjective analysis suggests that all swing Democrats were attacked for ties to the left, but progressives with actual ties to the left seemed to shrug those attacks off better than moderates.\n",
    "\n",
    "Some other things that I learned along the way:\n",
    "\n",
    "* It's surprisingly hard to find videos of individual campaign ads. Between SuperPACs, candidate YouTube channels full of news clips, and ads that seem to have disappeared, it took more sleuthing than I expected to find the ads. A probable consequence of this: my subjective analysis of the attack ads might be based on incomplete data.\n",
    "* Election results data is sometimes openly available as a matter of public record (e.g., the [FEC](https://www.fec.gov/introduction-campaign-finance/election-and-voting-information/) and the [MIT Election Lab](https://electionlab.mit.edu/data), but conveniently formatted data is often stuck behind paywalls (e.g., [Dave Leip's Election Atlas](https://uselectionatlas.org/) and [Polidata](https://polidata.org/)).\n",
    "* As with most exploratory data analysis, I learned a lot more from qualitative investigation of outliers and interesting data points than from the graphs.\n",
    "* Local journalism matters a lot: most of my information about the candidates came from local outlets. This included debate summaries, fact checks on attack ads, important context about the district, and more."
   ]
  },
  {
   "cell_type": "markdown",
   "metadata": {},
   "source": [
    "# Future work"
   ]
  },
  {
   "cell_type": "markdown",
   "metadata": {},
   "source": [
    "This notebook is necessarily an incomplete analysis. Here are some interesting future directions that came to mind as I was looking at this data.\n",
    "* Predictive baseline: instead of using a previous election, or an average of the last few presidential elections as the baseline (as the PVI does), one could in theory build a predictive model of what to *expect* from this election and use that as the baseline. Some possibilities for the model:\n",
    "  * Trend in House elections over time\n",
    "  * Trend in House elections, but accounting for facts like \"in the first midterm election after a new president takes office, the president's party usually does poorly\"\n",
    "  * Modeling fundamentals such as economic performance and incumbent strength (along the lines of what 538's election model does).\n",
    "* Quantifying challengers' ideologies: the govtrack score is only available for incumbents, but challenger ideology could possibly "
   ]
  }
 ],
 "metadata": {
  "kernelspec": {
   "display_name": "Python 3",
   "language": "python",
   "name": "python3"
  },
  "language_info": {
   "codemirror_mode": {
    "name": "ipython",
    "version": 3
   },
   "file_extension": ".py",
   "mimetype": "text/x-python",
   "name": "python",
   "nbconvert_exporter": "python",
   "pygments_lexer": "ipython3",
   "version": "3.7.1"
  }
 },
 "nbformat": 4,
 "nbformat_minor": 2
}
